{
  "cells": [
    {
      "cell_type": "markdown",
      "metadata": {
        "id": "view-in-github",
        "colab_type": "text"
      },
      "source": [
        "<a href=\"https://colab.research.google.com/github/nhitran161/Machine-Learning-for-Materials-Properties/blob/main/NANO281_lab3_%3CQuynh%3E_%3CTran%3E.ipynb\" target=\"_parent\"><img src=\"https://colab.research.google.com/assets/colab-badge.svg\" alt=\"Open In Colab\"/></a>"
      ]
    },
    {
      "cell_type": "markdown",
      "source": [
        "# NANOx81 Lab 3 (NANO281) — Quynh Tran\n",
        "\n",
        "**Date:** 2025-06-08  \n",
        "**Goal:** Predict cohesive_energy_per_atom from the MatPES r2SCAN dataset using compositional and structural features.  \n",
        "\n",
        "In this final lab, we will:  \n",
        "1. Download and explore the MatPES training data.  \n",
        "2. Generate composition‐ and structure‐based features.  \n",
        "3. Train and tune a regularized linear model (Ridge) and several tree/boosting models.  \n",
        "4. Compare performance (MSE) on train/validation and Kaggle test set.  \n",
        "5. Analyze feature importances to gain materials‐science insight.  "
      ],
      "metadata": {
        "id": "U0apgxCit0T9"
      }
    },
    {
      "cell_type": "code",
      "execution_count": null,
      "metadata": {
        "id": "3KOONv3iRaZb"
      },
      "outputs": [],
      "source": [
        "!pip install -q kaggle ijson matminer scikit-learn pymatgen datasets\n",
        "\n",
        "import pandas as pd\n",
        "import numpy as np\n",
        "import matplotlib.pyplot as plt\n",
        "import gzip, ijson, csv\n",
        "from pymatgen.core.composition import Composition\n",
        "from matminer.featurizers.composition import ElementProperty\n",
        "from sklearn.model_selection import train_test_split, GridSearchCV, RandomizedSearchCV\n",
        "from sklearn.linear_model import Ridge, RidgeCV\n",
        "from sklearn.metrics import mean_squared_error\n",
        "from sklearn.impute import SimpleImputer\n",
        "from sklearn.pipeline import Pipeline\n",
        "from sklearn.ensemble import RandomForestRegressor, HistGradientBoostingRegressor"
      ]
    },
    {
      "cell_type": "markdown",
      "source": [
        "## 2. Data Loading & Exploratory Data Analysis\n",
        "\n",
        "We first load the provided CSVs and plot the distribution of **cohesive_energy_per_atom** ($E_c$) to understand its range and skew.\n",
        "\n",
        "- **Training set:** 381 264 entries  \n",
        "- **Test set:** 6 345 entries  \n",
        "- $E_c$ ranges from roughly –13.7 to +3.7 eV/atom, with a mean near –4 eV/atom.\n",
        "\n",
        "We will not peek at test labels; they will be scored by Kaggle.\n"
      ],
      "metadata": {
        "id": "WTckwMPxuHH5"
      }
    },
    {
      "cell_type": "markdown",
      "source": [
        "**1. (2 points) Download the data files from Kaggle.\n",
        "Create a Pandas DataFrame with the training data.**"
      ],
      "metadata": {
        "id": "XGiV1dd8hFwt"
      }
    },
    {
      "cell_type": "code",
      "source": [
        "from google.colab import files\n",
        "files.upload()"
      ],
      "metadata": {
        "id": "fbe6PJ-wBtf9",
        "colab": {
          "base_uri": "https://localhost:8080/",
          "height": 54
        },
        "outputId": "027fcf53-2065-4f6f-aaa8-be1776401655"
      },
      "execution_count": null,
      "outputs": [
        {
          "output_type": "display_data",
          "data": {
            "text/plain": [
              "<IPython.core.display.HTML object>"
            ],
            "text/html": [
              "\n",
              "     <input type=\"file\" id=\"files-54fb2b75-1130-44a8-a19c-ef3c7e38faeb\" name=\"files[]\" multiple disabled\n",
              "        style=\"border:none\" />\n",
              "     <output id=\"result-54fb2b75-1130-44a8-a19c-ef3c7e38faeb\">\n",
              "      Upload widget is only available when the cell has been executed in the\n",
              "      current browser session. Please rerun this cell to enable.\n",
              "      </output>\n",
              "      <script>// Copyright 2017 Google LLC\n",
              "//\n",
              "// Licensed under the Apache License, Version 2.0 (the \"License\");\n",
              "// you may not use this file except in compliance with the License.\n",
              "// You may obtain a copy of the License at\n",
              "//\n",
              "//      http://www.apache.org/licenses/LICENSE-2.0\n",
              "//\n",
              "// Unless required by applicable law or agreed to in writing, software\n",
              "// distributed under the License is distributed on an \"AS IS\" BASIS,\n",
              "// WITHOUT WARRANTIES OR CONDITIONS OF ANY KIND, either express or implied.\n",
              "// See the License for the specific language governing permissions and\n",
              "// limitations under the License.\n",
              "\n",
              "/**\n",
              " * @fileoverview Helpers for google.colab Python module.\n",
              " */\n",
              "(function(scope) {\n",
              "function span(text, styleAttributes = {}) {\n",
              "  const element = document.createElement('span');\n",
              "  element.textContent = text;\n",
              "  for (const key of Object.keys(styleAttributes)) {\n",
              "    element.style[key] = styleAttributes[key];\n",
              "  }\n",
              "  return element;\n",
              "}\n",
              "\n",
              "// Max number of bytes which will be uploaded at a time.\n",
              "const MAX_PAYLOAD_SIZE = 100 * 1024;\n",
              "\n",
              "function _uploadFiles(inputId, outputId) {\n",
              "  const steps = uploadFilesStep(inputId, outputId);\n",
              "  const outputElement = document.getElementById(outputId);\n",
              "  // Cache steps on the outputElement to make it available for the next call\n",
              "  // to uploadFilesContinue from Python.\n",
              "  outputElement.steps = steps;\n",
              "\n",
              "  return _uploadFilesContinue(outputId);\n",
              "}\n",
              "\n",
              "// This is roughly an async generator (not supported in the browser yet),\n",
              "// where there are multiple asynchronous steps and the Python side is going\n",
              "// to poll for completion of each step.\n",
              "// This uses a Promise to block the python side on completion of each step,\n",
              "// then passes the result of the previous step as the input to the next step.\n",
              "function _uploadFilesContinue(outputId) {\n",
              "  const outputElement = document.getElementById(outputId);\n",
              "  const steps = outputElement.steps;\n",
              "\n",
              "  const next = steps.next(outputElement.lastPromiseValue);\n",
              "  return Promise.resolve(next.value.promise).then((value) => {\n",
              "    // Cache the last promise value to make it available to the next\n",
              "    // step of the generator.\n",
              "    outputElement.lastPromiseValue = value;\n",
              "    return next.value.response;\n",
              "  });\n",
              "}\n",
              "\n",
              "/**\n",
              " * Generator function which is called between each async step of the upload\n",
              " * process.\n",
              " * @param {string} inputId Element ID of the input file picker element.\n",
              " * @param {string} outputId Element ID of the output display.\n",
              " * @return {!Iterable<!Object>} Iterable of next steps.\n",
              " */\n",
              "function* uploadFilesStep(inputId, outputId) {\n",
              "  const inputElement = document.getElementById(inputId);\n",
              "  inputElement.disabled = false;\n",
              "\n",
              "  const outputElement = document.getElementById(outputId);\n",
              "  outputElement.innerHTML = '';\n",
              "\n",
              "  const pickedPromise = new Promise((resolve) => {\n",
              "    inputElement.addEventListener('change', (e) => {\n",
              "      resolve(e.target.files);\n",
              "    });\n",
              "  });\n",
              "\n",
              "  const cancel = document.createElement('button');\n",
              "  inputElement.parentElement.appendChild(cancel);\n",
              "  cancel.textContent = 'Cancel upload';\n",
              "  const cancelPromise = new Promise((resolve) => {\n",
              "    cancel.onclick = () => {\n",
              "      resolve(null);\n",
              "    };\n",
              "  });\n",
              "\n",
              "  // Wait for the user to pick the files.\n",
              "  const files = yield {\n",
              "    promise: Promise.race([pickedPromise, cancelPromise]),\n",
              "    response: {\n",
              "      action: 'starting',\n",
              "    }\n",
              "  };\n",
              "\n",
              "  cancel.remove();\n",
              "\n",
              "  // Disable the input element since further picks are not allowed.\n",
              "  inputElement.disabled = true;\n",
              "\n",
              "  if (!files) {\n",
              "    return {\n",
              "      response: {\n",
              "        action: 'complete',\n",
              "      }\n",
              "    };\n",
              "  }\n",
              "\n",
              "  for (const file of files) {\n",
              "    const li = document.createElement('li');\n",
              "    li.append(span(file.name, {fontWeight: 'bold'}));\n",
              "    li.append(span(\n",
              "        `(${file.type || 'n/a'}) - ${file.size} bytes, ` +\n",
              "        `last modified: ${\n",
              "            file.lastModifiedDate ? file.lastModifiedDate.toLocaleDateString() :\n",
              "                                    'n/a'} - `));\n",
              "    const percent = span('0% done');\n",
              "    li.appendChild(percent);\n",
              "\n",
              "    outputElement.appendChild(li);\n",
              "\n",
              "    const fileDataPromise = new Promise((resolve) => {\n",
              "      const reader = new FileReader();\n",
              "      reader.onload = (e) => {\n",
              "        resolve(e.target.result);\n",
              "      };\n",
              "      reader.readAsArrayBuffer(file);\n",
              "    });\n",
              "    // Wait for the data to be ready.\n",
              "    let fileData = yield {\n",
              "      promise: fileDataPromise,\n",
              "      response: {\n",
              "        action: 'continue',\n",
              "      }\n",
              "    };\n",
              "\n",
              "    // Use a chunked sending to avoid message size limits. See b/62115660.\n",
              "    let position = 0;\n",
              "    do {\n",
              "      const length = Math.min(fileData.byteLength - position, MAX_PAYLOAD_SIZE);\n",
              "      const chunk = new Uint8Array(fileData, position, length);\n",
              "      position += length;\n",
              "\n",
              "      const base64 = btoa(String.fromCharCode.apply(null, chunk));\n",
              "      yield {\n",
              "        response: {\n",
              "          action: 'append',\n",
              "          file: file.name,\n",
              "          data: base64,\n",
              "        },\n",
              "      };\n",
              "\n",
              "      let percentDone = fileData.byteLength === 0 ?\n",
              "          100 :\n",
              "          Math.round((position / fileData.byteLength) * 100);\n",
              "      percent.textContent = `${percentDone}% done`;\n",
              "\n",
              "    } while (position < fileData.byteLength);\n",
              "  }\n",
              "\n",
              "  // All done.\n",
              "  yield {\n",
              "    response: {\n",
              "      action: 'complete',\n",
              "    }\n",
              "  };\n",
              "}\n",
              "\n",
              "scope.google = scope.google || {};\n",
              "scope.google.colab = scope.google.colab || {};\n",
              "scope.google.colab._files = {\n",
              "  _uploadFiles,\n",
              "  _uploadFilesContinue,\n",
              "};\n",
              "})(self);\n",
              "</script> "
            ]
          },
          "metadata": {}
        },
        {
          "output_type": "execute_result",
          "data": {
            "text/plain": [
              "{}"
            ]
          },
          "metadata": {},
          "execution_count": 30
        }
      ]
    },
    {
      "cell_type": "code",
      "source": [
        "train_df  = pd.read_csv('nanox81_train_data.csv')\n",
        "test_df   = pd.read_csv('nanox81_test_data.csv')"
      ],
      "metadata": {
        "id": "o3cxXBjBhQsd"
      },
      "execution_count": null,
      "outputs": []
    },
    {
      "cell_type": "markdown",
      "source": [
        "**2.(3 points) Plot histograms of E_c of the training data.**\n"
      ],
      "metadata": {
        "id": "ghWZCQovhTr4"
      }
    },
    {
      "cell_type": "code",
      "execution_count": null,
      "metadata": {
        "colab": {
          "base_uri": "https://localhost:8080/",
          "height": 472
        },
        "id": "Q_xtF_MwRjr4",
        "outputId": "769c0a94-e880-41f9-9ffe-55e307be5a97"
      },
      "outputs": [
        {
          "output_type": "display_data",
          "data": {
            "text/plain": [
              "<Figure size 640x480 with 1 Axes>"
            ],
            "image/png": "[encoded data removed]"
          },
          "metadata": {}
        }
      ],
      "source": [
        "plt.hist(train_df['cohesive_energy_per_atom'], bins=50)\n",
        "plt.xlabel('Cohesive Energy per Atom (E_c)')\n",
        "plt.ylabel('Count')\n",
        "plt.title('Training Set E_c Distribution')\n",
        "plt.show()\n"
      ]
    },
    {
      "cell_type": "markdown",
      "source": [
        "## 3. Feature Engineering\n",
        "\n",
        "### 3.1 Composition‐based Features  \n",
        "We reuse the Magpie elemental properties to generate >100 composition descriptors per structure (mean, max, range of atomic radii, electronegativities, etc.). These were computed offline and saved in `train_comp.csv` / `test_comp.csv`.\n",
        "\n",
        "### 3.2 Structure‐based Features  \n",
        "From the MatPES JSON we extracted for each structure:  \n",
        "- **Density** and **density_atomic**  \n",
        "- **Symmetry** (crystal system, space-group symbol, number, point group) as one-hot encoded categories  \n",
        "- **Charge**, **lattice parameters** ($a,b,c,\\alpha,\\beta,\\gamma$), and **number of atomic sites**  \n",
        "We then merged these into `train_feat`/`test_feat`.\n"
      ],
      "metadata": {
        "id": "hnvwdw_OuXs9"
      }
    },
    {
      "cell_type": "markdown",
      "source": [
        "**3. (30 points)\n",
        "NANO281: Do not filter to keep the lowest E_c data for each formula. For the graduate version of the\n",
        "problem, you are using structural information as well as composition features. Generate composition-based and structure-based features. In addition to the NANO181 instructions above on compositional features, you\n",
        "will be required to extract structural features from the original MatPES dataset. Simple structural features\n",
        "may include things like the density, volume per atom, etc. But much more sophisticated structure features can\n",
        "be constructed based on your imagination and domain knowledge. The entire dataset is available on the MatPES\n",
        "website. You should download the r2SCAN file, which contains a gzipped json file containing the structures.**"
      ],
      "metadata": {
        "id": "p8glgz9Ohd2I"
      }
    },
    {
      "cell_type": "code",
      "execution_count": null,
      "metadata": {
        "colab": {
          "base_uri": "https://localhost:8080/",
          "height": 509,
          "referenced_widgets": [
            "ffaf4212147c424e965cc9059cc0a492",
            "f27346f47423488ba1fc33173570b2ac",
            "5c90da30c15e4e82a4650147fcf3c24f",
            "0c962fc959d04cac9bddd46038dcd282",
            "fdf935b4589d441d94aaaafdb0ad042d",
            "8a8b25343159455ea5d9297d9548a5da",
            "4ab054a28e5d49d89aa27cb9728b7f03",
            "af3b383f6f3f4d6fbec41c2c3ea4030b",
            "d70c2d8e1ea64c7b882e979bd2c8fdb1",
            "66fae6988647484a846bdc882b3cb191",
            "c6904473faba402dbb8300077561615b"
          ]
        },
        "id": "PrG-a_dCRlI5",
        "outputId": "c77ae103-08b3-49f6-bd04-91449bf41f8c",
        "collapsed": true
      },
      "outputs": [
        {
          "name": "stderr",
          "output_type": "stream",
          "text": [
            "/usr/local/lib/python3.11/dist-packages/matminer/utils/data.py:326: UserWarning: MagpieData(impute_nan=False):\n",
            "In a future release, impute_nan will be set to True by default.\n",
            "                    This means that features that are missing or are NaNs for elements\n",
            "                    from the data source will be replaced by the average of that value\n",
            "                    over the available elements.\n",
            "                    This avoids NaNs after featurization that are often replaced by\n",
            "                    dataset-dependent averages.\n",
            "  warnings.warn(f\"{self.__class__.__name__}(impute_nan=False):\\n\" + IMPUTE_NAN_WARNING)\n"
          ]
        },
        {
          "data": {
            "application/vnd.jupyter.widget-view+json": {
              "model_id": "ffaf4212147c424e965cc9059cc0a492",
              "version_major": 2,
              "version_minor": 0
            },
            "text/plain": [
              "ElementProperty:   0%|          | 0/381227 [00:00<?, ?it/s]"
            ]
          },
          "metadata": {},
          "output_type": "display_data"
        },
        {
          "ename": "KeyboardInterrupt",
          "evalue": "",
          "output_type": "error",
          "traceback": [
            "\u001b[0;31m---------------------------------------------------------------------------\u001b[0m",
            "\u001b[0;31mKeyboardInterrupt\u001b[0m                         Traceback (most recent call last)",
            "\u001b[0;32m<ipython-input-3-1f5ca18a2eda>\u001b[0m in \u001b[0;36m<cell line: 0>\u001b[0;34m()\u001b[0m\n\u001b[1;32m     16\u001b[0m \u001b[0;32mfrom\u001b[0m \u001b[0mmatminer\u001b[0m\u001b[0;34m.\u001b[0m\u001b[0mfeaturizers\u001b[0m\u001b[0;34m.\u001b[0m\u001b[0mcomposition\u001b[0m \u001b[0;32mimport\u001b[0m \u001b[0mElementProperty\u001b[0m\u001b[0;34m\u001b[0m\u001b[0;34m\u001b[0m\u001b[0m\n\u001b[1;32m     17\u001b[0m \u001b[0mfeaturizer\u001b[0m \u001b[0;34m=\u001b[0m \u001b[0mElementProperty\u001b[0m\u001b[0;34m.\u001b[0m\u001b[0mfrom_preset\u001b[0m\u001b[0;34m(\u001b[0m\u001b[0;34m'magpie'\u001b[0m\u001b[0;34m)\u001b[0m\u001b[0;34m\u001b[0m\u001b[0;34m\u001b[0m\u001b[0m\n\u001b[0;32m---> 18\u001b[0;31m \u001b[0mtrain_comp\u001b[0m \u001b[0;34m=\u001b[0m \u001b[0mfeaturizer\u001b[0m\u001b[0;34m.\u001b[0m\u001b[0mfeaturize_dataframe\u001b[0m\u001b[0;34m(\u001b[0m\u001b[0mtrain_df\u001b[0m\u001b[0;34m,\u001b[0m \u001b[0mcol_id\u001b[0m\u001b[0;34m=\u001b[0m\u001b[0;34m'composition'\u001b[0m\u001b[0;34m,\u001b[0m \u001b[0mignore_errors\u001b[0m\u001b[0;34m=\u001b[0m\u001b[0;32mTrue\u001b[0m\u001b[0;34m)\u001b[0m\u001b[0;34m\u001b[0m\u001b[0;34m\u001b[0m\u001b[0m\n\u001b[0m\u001b[1;32m     19\u001b[0m \u001b[0mtest_comp\u001b[0m  \u001b[0;34m=\u001b[0m \u001b[0mfeaturizer\u001b[0m\u001b[0;34m.\u001b[0m\u001b[0mfeaturize_dataframe\u001b[0m\u001b[0;34m(\u001b[0m\u001b[0mtest_df\u001b[0m\u001b[0;34m,\u001b[0m  \u001b[0mcol_id\u001b[0m\u001b[0;34m=\u001b[0m\u001b[0;34m'composition'\u001b[0m\u001b[0;34m,\u001b[0m \u001b[0mignore_errors\u001b[0m\u001b[0;34m=\u001b[0m\u001b[0;32mTrue\u001b[0m\u001b[0;34m)\u001b[0m\u001b[0;34m\u001b[0m\u001b[0;34m\u001b[0m\u001b[0m\n",
            "\u001b[0;32m/usr/local/lib/python3.11/dist-packages/matminer/featurizers/base.py\u001b[0m in \u001b[0;36mfeaturize_dataframe\u001b[0;34m(self, df, col_id, ignore_errors, return_errors, inplace, multiindex, pbar)\u001b[0m\n\u001b[1;32m    344\u001b[0m \u001b[0;34m\u001b[0m\u001b[0m\n\u001b[1;32m    345\u001b[0m         \u001b[0;31m# Compute the features\u001b[0m\u001b[0;34m\u001b[0m\u001b[0;34m\u001b[0m\u001b[0m\n\u001b[0;32m--> 346\u001b[0;31m         features = self.featurize_many(\n\u001b[0m\u001b[1;32m    347\u001b[0m             \u001b[0mdf\u001b[0m\u001b[0;34m[\u001b[0m\u001b[0mcol_id\u001b[0m\u001b[0;34m]\u001b[0m\u001b[0;34m.\u001b[0m\u001b[0mvalues\u001b[0m\u001b[0;34m,\u001b[0m\u001b[0;34m\u001b[0m\u001b[0;34m\u001b[0m\u001b[0m\n\u001b[1;32m    348\u001b[0m             \u001b[0mignore_errors\u001b[0m\u001b[0;34m=\u001b[0m\u001b[0mignore_errors\u001b[0m\u001b[0;34m,\u001b[0m\u001b[0;34m\u001b[0m\u001b[0;34m\u001b[0m\u001b[0m\n",
            "\u001b[0;32m/usr/local/lib/python3.11/dist-packages/matminer/featurizers/base.py\u001b[0m in \u001b[0;36mfeaturize_many\u001b[0;34m(self, entries, ignore_errors, return_errors, pbar)\u001b[0m\n\u001b[1;32m    476\u001b[0m                     \u001b[0mignore_errors\u001b[0m\u001b[0;34m=\u001b[0m\u001b[0mignore_errors\u001b[0m\u001b[0;34m,\u001b[0m\u001b[0;34m\u001b[0m\u001b[0;34m\u001b[0m\u001b[0m\n\u001b[1;32m    477\u001b[0m                 )\n\u001b[0;32m--> 478\u001b[0;31m                 \u001b[0mres\u001b[0m \u001b[0;34m=\u001b[0m \u001b[0mp\u001b[0m\u001b[0;34m.\u001b[0m\u001b[0mmap\u001b[0m\u001b[0;34m(\u001b[0m\u001b[0mfunc\u001b[0m\u001b[0;34m,\u001b[0m \u001b[0mentries\u001b[0m\u001b[0;34m,\u001b[0m \u001b[0mchunksize\u001b[0m\u001b[0;34m=\u001b[0m\u001b[0mself\u001b[0m\u001b[0;34m.\u001b[0m\u001b[0mchunksize\u001b[0m\u001b[0;34m)\u001b[0m\u001b[0;34m\u001b[0m\u001b[0;34m\u001b[0m\u001b[0m\n\u001b[0m\u001b[1;32m    479\u001b[0m                 \u001b[0;32mreturn\u001b[0m \u001b[0mres\u001b[0m\u001b[0;34m\u001b[0m\u001b[0;34m\u001b[0m\u001b[0m\n\u001b[1;32m    480\u001b[0m \u001b[0;34m\u001b[0m\u001b[0m\n",
            "\u001b[0;32m/usr/lib/python3.11/multiprocessing/pool.py\u001b[0m in \u001b[0;36mmap\u001b[0;34m(self, func, iterable, chunksize)\u001b[0m\n\u001b[1;32m    365\u001b[0m         \u001b[0;32min\u001b[0m \u001b[0ma\u001b[0m \u001b[0mlist\u001b[0m \u001b[0mthat\u001b[0m \u001b[0;32mis\u001b[0m \u001b[0mreturned\u001b[0m\u001b[0;34m.\u001b[0m\u001b[0;34m\u001b[0m\u001b[0;34m\u001b[0m\u001b[0m\n\u001b[1;32m    366\u001b[0m         '''\n\u001b[0;32m--> 367\u001b[0;31m         \u001b[0;32mreturn\u001b[0m \u001b[0mself\u001b[0m\u001b[0;34m.\u001b[0m\u001b[0m_map_async\u001b[0m\u001b[0;34m(\u001b[0m\u001b[0mfunc\u001b[0m\u001b[0;34m,\u001b[0m \u001b[0miterable\u001b[0m\u001b[0;34m,\u001b[0m \u001b[0mmapstar\u001b[0m\u001b[0;34m,\u001b[0m \u001b[0mchunksize\u001b[0m\u001b[0;34m)\u001b[0m\u001b[0;34m.\u001b[0m\u001b[0mget\u001b[0m\u001b[0;34m(\u001b[0m\u001b[0;34m)\u001b[0m\u001b[0;34m\u001b[0m\u001b[0;34m\u001b[0m\u001b[0m\n\u001b[0m\u001b[1;32m    368\u001b[0m \u001b[0;34m\u001b[0m\u001b[0m\n\u001b[1;32m    369\u001b[0m     \u001b[0;32mdef\u001b[0m \u001b[0mstarmap\u001b[0m\u001b[0;34m(\u001b[0m\u001b[0mself\u001b[0m\u001b[0;34m,\u001b[0m \u001b[0mfunc\u001b[0m\u001b[0;34m,\u001b[0m \u001b[0miterable\u001b[0m\u001b[0;34m,\u001b[0m \u001b[0mchunksize\u001b[0m\u001b[0;34m=\u001b[0m\u001b[0;32mNone\u001b[0m\u001b[0;34m)\u001b[0m\u001b[0;34m:\u001b[0m\u001b[0;34m\u001b[0m\u001b[0;34m\u001b[0m\u001b[0m\n",
            "\u001b[0;32m/usr/lib/python3.11/multiprocessing/pool.py\u001b[0m in \u001b[0;36mget\u001b[0;34m(self, timeout)\u001b[0m\n\u001b[1;32m    766\u001b[0m \u001b[0;34m\u001b[0m\u001b[0m\n\u001b[1;32m    767\u001b[0m     \u001b[0;32mdef\u001b[0m \u001b[0mget\u001b[0m\u001b[0;34m(\u001b[0m\u001b[0mself\u001b[0m\u001b[0;34m,\u001b[0m \u001b[0mtimeout\u001b[0m\u001b[0;34m=\u001b[0m\u001b[0;32mNone\u001b[0m\u001b[0;34m)\u001b[0m\u001b[0;34m:\u001b[0m\u001b[0;34m\u001b[0m\u001b[0;34m\u001b[0m\u001b[0m\n\u001b[0;32m--> 768\u001b[0;31m         \u001b[0mself\u001b[0m\u001b[0;34m.\u001b[0m\u001b[0mwait\u001b[0m\u001b[0;34m(\u001b[0m\u001b[0mtimeout\u001b[0m\u001b[0;34m)\u001b[0m\u001b[0;34m\u001b[0m\u001b[0;34m\u001b[0m\u001b[0m\n\u001b[0m\u001b[1;32m    769\u001b[0m         \u001b[0;32mif\u001b[0m \u001b[0;32mnot\u001b[0m \u001b[0mself\u001b[0m\u001b[0;34m.\u001b[0m\u001b[0mready\u001b[0m\u001b[0;34m(\u001b[0m\u001b[0;34m)\u001b[0m\u001b[0;34m:\u001b[0m\u001b[0;34m\u001b[0m\u001b[0;34m\u001b[0m\u001b[0m\n\u001b[1;32m    770\u001b[0m             \u001b[0;32mraise\u001b[0m \u001b[0mTimeoutError\u001b[0m\u001b[0;34m\u001b[0m\u001b[0;34m\u001b[0m\u001b[0m\n",
            "\u001b[0;32m/usr/lib/python3.11/multiprocessing/pool.py\u001b[0m in \u001b[0;36mwait\u001b[0;34m(self, timeout)\u001b[0m\n\u001b[1;32m    763\u001b[0m \u001b[0;34m\u001b[0m\u001b[0m\n\u001b[1;32m    764\u001b[0m     \u001b[0;32mdef\u001b[0m \u001b[0mwait\u001b[0m\u001b[0;34m(\u001b[0m\u001b[0mself\u001b[0m\u001b[0;34m,\u001b[0m \u001b[0mtimeout\u001b[0m\u001b[0;34m=\u001b[0m\u001b[0;32mNone\u001b[0m\u001b[0;34m)\u001b[0m\u001b[0;34m:\u001b[0m\u001b[0;34m\u001b[0m\u001b[0;34m\u001b[0m\u001b[0m\n\u001b[0;32m--> 765\u001b[0;31m         \u001b[0mself\u001b[0m\u001b[0;34m.\u001b[0m\u001b[0m_event\u001b[0m\u001b[0;34m.\u001b[0m\u001b[0mwait\u001b[0m\u001b[0;34m(\u001b[0m\u001b[0mtimeout\u001b[0m\u001b[0;34m)\u001b[0m\u001b[0;34m\u001b[0m\u001b[0;34m\u001b[0m\u001b[0m\n\u001b[0m\u001b[1;32m    766\u001b[0m \u001b[0;34m\u001b[0m\u001b[0m\n\u001b[1;32m    767\u001b[0m     \u001b[0;32mdef\u001b[0m \u001b[0mget\u001b[0m\u001b[0;34m(\u001b[0m\u001b[0mself\u001b[0m\u001b[0;34m,\u001b[0m \u001b[0mtimeout\u001b[0m\u001b[0;34m=\u001b[0m\u001b[0;32mNone\u001b[0m\u001b[0;34m)\u001b[0m\u001b[0;34m:\u001b[0m\u001b[0;34m\u001b[0m\u001b[0;34m\u001b[0m\u001b[0m\n",
            "\u001b[0;32m/usr/lib/python3.11/threading.py\u001b[0m in \u001b[0;36mwait\u001b[0;34m(self, timeout)\u001b[0m\n\u001b[1;32m    627\u001b[0m             \u001b[0msignaled\u001b[0m \u001b[0;34m=\u001b[0m \u001b[0mself\u001b[0m\u001b[0;34m.\u001b[0m\u001b[0m_flag\u001b[0m\u001b[0;34m\u001b[0m\u001b[0;34m\u001b[0m\u001b[0m\n\u001b[1;32m    628\u001b[0m             \u001b[0;32mif\u001b[0m \u001b[0;32mnot\u001b[0m \u001b[0msignaled\u001b[0m\u001b[0;34m:\u001b[0m\u001b[0;34m\u001b[0m\u001b[0;34m\u001b[0m\u001b[0m\n\u001b[0;32m--> 629\u001b[0;31m                 \u001b[0msignaled\u001b[0m \u001b[0;34m=\u001b[0m \u001b[0mself\u001b[0m\u001b[0;34m.\u001b[0m\u001b[0m_cond\u001b[0m\u001b[0;34m.\u001b[0m\u001b[0mwait\u001b[0m\u001b[0;34m(\u001b[0m\u001b[0mtimeout\u001b[0m\u001b[0;34m)\u001b[0m\u001b[0;34m\u001b[0m\u001b[0;34m\u001b[0m\u001b[0m\n\u001b[0m\u001b[1;32m    630\u001b[0m             \u001b[0;32mreturn\u001b[0m \u001b[0msignaled\u001b[0m\u001b[0;34m\u001b[0m\u001b[0;34m\u001b[0m\u001b[0m\n\u001b[1;32m    631\u001b[0m \u001b[0;34m\u001b[0m\u001b[0m\n",
            "\u001b[0;32m/usr/lib/python3.11/threading.py\u001b[0m in \u001b[0;36mwait\u001b[0;34m(self, timeout)\u001b[0m\n\u001b[1;32m    325\u001b[0m         \u001b[0;32mtry\u001b[0m\u001b[0;34m:\u001b[0m    \u001b[0;31m# restore state no matter what (e.g., KeyboardInterrupt)\u001b[0m\u001b[0;34m\u001b[0m\u001b[0;34m\u001b[0m\u001b[0m\n\u001b[1;32m    326\u001b[0m             \u001b[0;32mif\u001b[0m \u001b[0mtimeout\u001b[0m \u001b[0;32mis\u001b[0m \u001b[0;32mNone\u001b[0m\u001b[0;34m:\u001b[0m\u001b[0;34m\u001b[0m\u001b[0;34m\u001b[0m\u001b[0m\n\u001b[0;32m--> 327\u001b[0;31m                 \u001b[0mwaiter\u001b[0m\u001b[0;34m.\u001b[0m\u001b[0macquire\u001b[0m\u001b[0;34m(\u001b[0m\u001b[0;34m)\u001b[0m\u001b[0;34m\u001b[0m\u001b[0;34m\u001b[0m\u001b[0m\n\u001b[0m\u001b[1;32m    328\u001b[0m                 \u001b[0mgotit\u001b[0m \u001b[0;34m=\u001b[0m \u001b[0;32mTrue\u001b[0m\u001b[0;34m\u001b[0m\u001b[0;34m\u001b[0m\u001b[0m\n\u001b[1;32m    329\u001b[0m             \u001b[0;32melse\u001b[0m\u001b[0;34m:\u001b[0m\u001b[0;34m\u001b[0m\u001b[0;34m\u001b[0m\u001b[0m\n",
            "\u001b[0;31mKeyboardInterrupt\u001b[0m: "
          ]
        }
      ],
      "source": [
        "def safe_comp(f):\n",
        "    try:\n",
        "        return Composition(f)\n",
        "    except Exception:\n",
        "        return None\n",
        "\n",
        "train_df['composition'] = train_df['formula_pretty'].apply(safe_comp)\n",
        "test_df ['composition'] = test_df ['formula_pretty'].apply(safe_comp)\n",
        "\n",
        "# now drop any that failed, or let featurizer ignore them\n",
        "train_df = train_df.dropna(subset=['composition']).copy()\n",
        "test_df  = test_df.dropna(subset=['composition']).copy()\n",
        "\n",
        "featurizer = ElementProperty.from_preset('magpie')\n",
        "train_comp = featurizer.featurize_dataframe(train_df, col_id='composition', ignore_errors=True)\n",
        "test_comp  = featurizer.featurize_dataframe(test_df,  col_id='composition', ignore_errors=True)\n",
        "\n",
        "# save train_comp as df\n",
        "train_comp.to_csv('train_comp.csv', index=False)\n",
        "# save test_comp as df\n",
        "test_comp.to_csv('test_comp.csv', index=False)"
      ]
    },
    {
      "cell_type": "markdown",
      "source": [
        "> Part 1: Stream & chunk the R2SCAN JSON into a lightweight DataFrame  → struct_features.csv"
      ],
      "metadata": {
        "id": "GUo5aN8VBZXO"
      }
    },
    {
      "cell_type": "code",
      "source": [
        "records = []\n",
        "with gzip.open('MatPES-R2SCAN-2025.1-min.json.gz','rb') as fin:\n",
        "    for entry in ijson.items(fin, 'item'):\n",
        "        sym    = entry.get('symmetry', {})\n",
        "        struct = entry.get('structure', {})\n",
        "        latt   = struct.get('lattice', {})\n",
        "        sites  = struct.get('sites', [])\n",
        "        records.append({\n",
        "            'matpes_id':          entry['matpes_id'],\n",
        "            'density':            entry.get('density'),\n",
        "            'density_atomic':     entry.get('density_atomic'),\n",
        "            'sym_crystal_system': sym.get('crystal_system'),\n",
        "            'sym_symbol':         sym.get('symbol'),\n",
        "            'sym_number':         sym.get('number'),\n",
        "            'sym_point_group':    sym.get('point_group'),\n",
        "            'charge':             struct.get('charge'),\n",
        "            'a':                   latt.get('a'),\n",
        "            'b':                   latt.get('b'),\n",
        "            'c':                   latt.get('c'),\n",
        "            'alpha':               latt.get('alpha'),\n",
        "            'beta':                latt.get('beta'),\n",
        "            'gamma':               latt.get('gamma'),\n",
        "            'n_sites':            len(sites),\n",
        "        })\n",
        "struct_df = pd.DataFrame(records)\n",
        "struct_df.to_csv('struct_features.csv', index=False)"
      ],
      "metadata": {
        "id": "RN32Iz8hBVoZ",
        "colab": {
          "base_uri": "https://localhost:8080/",
          "height": 356
        },
        "outputId": "af52dc6e-fd23-454e-eeb2-d128632f0d7e",
        "collapsed": true
      },
      "execution_count": null,
      "outputs": [
        {
          "output_type": "error",
          "ename": "FileNotFoundError",
          "evalue": "[Errno 2] No such file or directory: 'MatPES-R2SCAN-2025.1-min.json.gz'",
          "traceback": [
            "\u001b[0;31m---------------------------------------------------------------------------\u001b[0m",
            "\u001b[0;31mFileNotFoundError\u001b[0m                         Traceback (most recent call last)",
            "\u001b[0;32m<ipython-input-3-0388de533e25>\u001b[0m in \u001b[0;36m<cell line: 0>\u001b[0;34m()\u001b[0m\n\u001b[1;32m     12\u001b[0m \u001b[0;31m# 1) Stream & chunk the R2SCAN JSON into a lightweight DataFrame\u001b[0m\u001b[0;34m\u001b[0m\u001b[0;34m\u001b[0m\u001b[0m\n\u001b[1;32m     13\u001b[0m \u001b[0mrecords\u001b[0m \u001b[0;34m=\u001b[0m \u001b[0;34m[\u001b[0m\u001b[0;34m]\u001b[0m\u001b[0;34m\u001b[0m\u001b[0;34m\u001b[0m\u001b[0m\n\u001b[0;32m---> 14\u001b[0;31m \u001b[0;32mwith\u001b[0m \u001b[0mgzip\u001b[0m\u001b[0;34m.\u001b[0m\u001b[0mopen\u001b[0m\u001b[0;34m(\u001b[0m\u001b[0;34m'MatPES-R2SCAN-2025.1-min.json.gz'\u001b[0m\u001b[0;34m,\u001b[0m\u001b[0;34m'rb'\u001b[0m\u001b[0;34m)\u001b[0m \u001b[0;32mas\u001b[0m \u001b[0mfin\u001b[0m\u001b[0;34m:\u001b[0m\u001b[0;34m\u001b[0m\u001b[0;34m\u001b[0m\u001b[0m\n\u001b[0m\u001b[1;32m     15\u001b[0m     \u001b[0;32mfor\u001b[0m \u001b[0mentry\u001b[0m \u001b[0;32min\u001b[0m \u001b[0mijson\u001b[0m\u001b[0;34m.\u001b[0m\u001b[0mitems\u001b[0m\u001b[0;34m(\u001b[0m\u001b[0mfin\u001b[0m\u001b[0;34m,\u001b[0m \u001b[0;34m'item'\u001b[0m\u001b[0;34m)\u001b[0m\u001b[0;34m:\u001b[0m\u001b[0;34m\u001b[0m\u001b[0;34m\u001b[0m\u001b[0m\n\u001b[1;32m     16\u001b[0m         \u001b[0msym\u001b[0m    \u001b[0;34m=\u001b[0m \u001b[0mentry\u001b[0m\u001b[0;34m.\u001b[0m\u001b[0mget\u001b[0m\u001b[0;34m(\u001b[0m\u001b[0;34m'symmetry'\u001b[0m\u001b[0;34m,\u001b[0m \u001b[0;34m{\u001b[0m\u001b[0;34m}\u001b[0m\u001b[0;34m)\u001b[0m\u001b[0;34m\u001b[0m\u001b[0;34m\u001b[0m\u001b[0m\n",
            "\u001b[0;32m/usr/lib/python3.11/gzip.py\u001b[0m in \u001b[0;36mopen\u001b[0;34m(filename, mode, compresslevel, encoding, errors, newline)\u001b[0m\n\u001b[1;32m     56\u001b[0m     \u001b[0mgz_mode\u001b[0m \u001b[0;34m=\u001b[0m \u001b[0mmode\u001b[0m\u001b[0;34m.\u001b[0m\u001b[0mreplace\u001b[0m\u001b[0;34m(\u001b[0m\u001b[0;34m\"t\"\u001b[0m\u001b[0;34m,\u001b[0m \u001b[0;34m\"\"\u001b[0m\u001b[0;34m)\u001b[0m\u001b[0;34m\u001b[0m\u001b[0;34m\u001b[0m\u001b[0m\n\u001b[1;32m     57\u001b[0m     \u001b[0;32mif\u001b[0m \u001b[0misinstance\u001b[0m\u001b[0;34m(\u001b[0m\u001b[0mfilename\u001b[0m\u001b[0;34m,\u001b[0m \u001b[0;34m(\u001b[0m\u001b[0mstr\u001b[0m\u001b[0;34m,\u001b[0m \u001b[0mbytes\u001b[0m\u001b[0;34m,\u001b[0m \u001b[0mos\u001b[0m\u001b[0;34m.\u001b[0m\u001b[0mPathLike\u001b[0m\u001b[0;34m)\u001b[0m\u001b[0;34m)\u001b[0m\u001b[0;34m:\u001b[0m\u001b[0;34m\u001b[0m\u001b[0;34m\u001b[0m\u001b[0m\n\u001b[0;32m---> 58\u001b[0;31m         \u001b[0mbinary_file\u001b[0m \u001b[0;34m=\u001b[0m \u001b[0mGzipFile\u001b[0m\u001b[0;34m(\u001b[0m\u001b[0mfilename\u001b[0m\u001b[0;34m,\u001b[0m \u001b[0mgz_mode\u001b[0m\u001b[0;34m,\u001b[0m \u001b[0mcompresslevel\u001b[0m\u001b[0;34m)\u001b[0m\u001b[0;34m\u001b[0m\u001b[0;34m\u001b[0m\u001b[0m\n\u001b[0m\u001b[1;32m     59\u001b[0m     \u001b[0;32melif\u001b[0m \u001b[0mhasattr\u001b[0m\u001b[0;34m(\u001b[0m\u001b[0mfilename\u001b[0m\u001b[0;34m,\u001b[0m \u001b[0;34m\"read\"\u001b[0m\u001b[0;34m)\u001b[0m \u001b[0;32mor\u001b[0m \u001b[0mhasattr\u001b[0m\u001b[0;34m(\u001b[0m\u001b[0mfilename\u001b[0m\u001b[0;34m,\u001b[0m \u001b[0;34m\"write\"\u001b[0m\u001b[0;34m)\u001b[0m\u001b[0;34m:\u001b[0m\u001b[0;34m\u001b[0m\u001b[0;34m\u001b[0m\u001b[0m\n\u001b[1;32m     60\u001b[0m         \u001b[0mbinary_file\u001b[0m \u001b[0;34m=\u001b[0m \u001b[0mGzipFile\u001b[0m\u001b[0;34m(\u001b[0m\u001b[0;32mNone\u001b[0m\u001b[0;34m,\u001b[0m \u001b[0mgz_mode\u001b[0m\u001b[0;34m,\u001b[0m \u001b[0mcompresslevel\u001b[0m\u001b[0;34m,\u001b[0m \u001b[0mfilename\u001b[0m\u001b[0;34m)\u001b[0m\u001b[0;34m\u001b[0m\u001b[0;34m\u001b[0m\u001b[0m\n",
            "\u001b[0;32m/usr/lib/python3.11/gzip.py\u001b[0m in \u001b[0;36m__init__\u001b[0;34m(self, filename, mode, compresslevel, fileobj, mtime)\u001b[0m\n\u001b[1;32m    172\u001b[0m             \u001b[0mmode\u001b[0m \u001b[0;34m+=\u001b[0m \u001b[0;34m'b'\u001b[0m\u001b[0;34m\u001b[0m\u001b[0;34m\u001b[0m\u001b[0m\n\u001b[1;32m    173\u001b[0m         \u001b[0;32mif\u001b[0m \u001b[0mfileobj\u001b[0m \u001b[0;32mis\u001b[0m \u001b[0;32mNone\u001b[0m\u001b[0;34m:\u001b[0m\u001b[0;34m\u001b[0m\u001b[0;34m\u001b[0m\u001b[0m\n\u001b[0;32m--> 174\u001b[0;31m             \u001b[0mfileobj\u001b[0m \u001b[0;34m=\u001b[0m \u001b[0mself\u001b[0m\u001b[0;34m.\u001b[0m\u001b[0mmyfileobj\u001b[0m \u001b[0;34m=\u001b[0m \u001b[0mbuiltins\u001b[0m\u001b[0;34m.\u001b[0m\u001b[0mopen\u001b[0m\u001b[0;34m(\u001b[0m\u001b[0mfilename\u001b[0m\u001b[0;34m,\u001b[0m \u001b[0mmode\u001b[0m \u001b[0;32mor\u001b[0m \u001b[0;34m'rb'\u001b[0m\u001b[0;34m)\u001b[0m\u001b[0;34m\u001b[0m\u001b[0;34m\u001b[0m\u001b[0m\n\u001b[0m\u001b[1;32m    175\u001b[0m         \u001b[0;32mif\u001b[0m \u001b[0mfilename\u001b[0m \u001b[0;32mis\u001b[0m \u001b[0;32mNone\u001b[0m\u001b[0;34m:\u001b[0m\u001b[0;34m\u001b[0m\u001b[0;34m\u001b[0m\u001b[0m\n\u001b[1;32m    176\u001b[0m             \u001b[0mfilename\u001b[0m \u001b[0;34m=\u001b[0m \u001b[0mgetattr\u001b[0m\u001b[0;34m(\u001b[0m\u001b[0mfileobj\u001b[0m\u001b[0;34m,\u001b[0m \u001b[0;34m'name'\u001b[0m\u001b[0;34m,\u001b[0m \u001b[0;34m''\u001b[0m\u001b[0;34m)\u001b[0m\u001b[0;34m\u001b[0m\u001b[0;34m\u001b[0m\u001b[0m\n",
            "\u001b[0;31mFileNotFoundError\u001b[0m: [Errno 2] No such file or directory: 'MatPES-R2SCAN-2025.1-min.json.gz'"
          ]
        }
      ]
    },
    {
      "cell_type": "markdown",
      "source": [
        "> Part 2: Merge & Model (RidgeCV + Poly)"
      ],
      "metadata": {
        "id": "T-4B1_A4BeDl"
      }
    },
    {
      "cell_type": "code",
      "source": [
        "train_comp = pd.read_csv('train_comp.csv')\n",
        "test_comp  = pd.read_csv('test_comp.csv')\n",
        "struct_df  = pd.read_csv('struct_features.csv')\n",
        "\n",
        "train_feat = train_comp.merge(struct_df, on='matpes_id', how='left')\n",
        "test_feat  = test_comp .merge(struct_df, on='matpes_id', how='left')\n",
        "\n",
        "numeric = train_feat.select_dtypes(include=[np.number]).columns.tolist()\n",
        "feature_cols = [c for c in numeric if c not in ['matpes_id','cohesive_energy_per_atom']]\n",
        "\n",
        "X      = train_feat[feature_cols].copy()\n",
        "X_test = test_feat [feature_cols].copy()\n",
        "y      = train_feat['cohesive_energy_per_atom']\n",
        "\n",
        "all_null = [c for c in feature_cols if X[c].isna().all()]\n",
        "print(\"Dropping all-null features:\", all_null)\n",
        "X.drop(columns=all_null,    inplace=True)\n",
        "X_test.drop(columns=all_null, inplace=True)\n",
        "\n",
        "feature_cols = X.columns.tolist()\n",
        "\n",
        "X.replace([np.inf, -np.inf], np.nan, inplace=True)\n",
        "X_test.replace([np.inf, -np.inf], np.nan, inplace=True)\n",
        "from sklearn.impute import SimpleImputer\n",
        "imp = SimpleImputer(strategy='mean')\n",
        "X      = pd.DataFrame(imp.fit_transform(X),      columns=feature_cols)\n",
        "X_test = pd.DataFrame(imp.transform(X_test),      columns=feature_cols)\n",
        "\n",
        "from sklearn.model_selection import train_test_split\n",
        "X_tr, X_val, y_tr, y_val = train_test_split(\n",
        "    X, y, test_size=0.2, random_state=42\n",
        ")\n"
      ],
      "metadata": {
        "id": "6EC0MK4mBiJM",
        "colab": {
          "base_uri": "https://localhost:8080/"
        },
        "outputId": "357c2a37-d38d-407d-9709-48e72bc26f27"
      },
      "execution_count": null,
      "outputs": [
        {
          "output_type": "stream",
          "name": "stdout",
          "text": [
            "Dropping all-null features: ['a', 'b', 'c', 'alpha', 'beta', 'gamma']\n"
          ]
        }
      ]
    },
    {
      "cell_type": "markdown",
      "source": [
        "## 4. Modeling\n",
        "\n",
        "We split the 381 264‐entry training set into an 80/20 train/validation split.  All features (composition + structure) were imputed (mean) and standardized before modeling.\n",
        "\n",
        "#### 4.1 Ridge Regression (Polynomial Features)\n",
        "\n",
        "- **Pipeline**: 2nd-degree `PolynomialFeatures` → `StandardScaler` → `RidgeCV`  \n",
        "- **Alphas**: 30 log-spaced between 1e-4 and 1e4, 5-fold CV  \n",
        "- **Validation MSE**: *0.308*  \n",
        "\n",
        "#### 4.2 Hyperparameter Tuning for HistGradientBoostingRegressor (NANO281)\n",
        "\n",
        "We focus our main tree-based model on a histogram-based GBM, which:\n",
        "\n",
        "- Handles missing values natively  \n",
        "- Leverages fast histogram binning  \n",
        "- Often outperforms RandomForest on large datasets  \n",
        "\n",
        "**Search setup:**  \n",
        "- `max_iter` ∈ {100, 200, 300}  \n",
        "- `learning_rate` ∈ {0.01, 0.05, 0.1}  \n",
        "- `max_depth` ∈ {None, 10, 15}  \n",
        "- `l2_regularization` ∈ {0.0, 0.1, 1.0, 10.0}  \n",
        "- 12 random trials (`RandomizedSearchCV`), 3-fold CV, scoring=`neg_mean_squared_error`\n",
        "\n",
        "```python\n",
        "# Example of the tuning cell\n",
        "search = RandomizedSearchCV(\n",
        "    Pipeline([\n",
        "      ('imputer', SimpleImputer(strategy='mean')),\n",
        "      ('hgb',     HistGradientBoostingRegressor(random_state=42, early_stopping=False))\n",
        "    ]),\n",
        "    {\n",
        "      'hgb__max_iter': [100,200,300],\n",
        "      'hgb__learning_rate': [0.01,0.05,0.1],\n",
        "      'hgb__max_depth': [None,10,15],\n",
        "      'hgb__l2_regularization':[0.0,0.1,1.0,10.0]\n",
        "    },\n",
        "    n_iter=12, cv=3, scoring='neg_mean_squared_error', n_jobs=-1, verbose=2, random_state=42\n",
        ")\n",
        "search.fit(X_tr, y_tr)\n"
      ],
      "metadata": {
        "id": "v7bIIKkwuhYz"
      }
    },
    {
      "cell_type": "markdown",
      "source": [
        "**4. (20 points) Train a simple linear type model with shrinkage/regularization and/or feature transformations to predict\n",
        "E_c. Upload the predictions of your best model to the Kaggle site. Look at the file called\n",
        "nanox81_sample_submission.csv to understand the format of the file that needs to be submitted. You just need two\n",
        "columns - matpes_id and cohesive_energy_per_atom. You can make multiple uploads over the course of the lab.\n",
        "Report the training, validation and test MSE for your best model.**"
      ],
      "metadata": {
        "id": "S3XL8yDAh7ZH"
      }
    },
    {
      "cell_type": "code",
      "source": [
        "pipe = Pipeline([\n",
        "    ('scaler', StandardScaler()),\n",
        "    ('ridge',   Ridge())\n",
        "])\n",
        "param_grid = {'ridge__alpha': [0.1, 1, 10, 100]}\n",
        "\n",
        "grid = GridSearchCV(\n",
        "    pipe,\n",
        "    param_grid,\n",
        "    cv=5,\n",
        "    scoring='neg_mean_squared_error',\n",
        "    n_jobs=-1\n",
        ")\n",
        "grid.fit(X_tr, y_tr)\n",
        "\n",
        "print(\"Best α:\", grid.best_params_['ridge__alpha'])\n",
        "print(\"Train MSE:\", mean_squared_error(y_tr, grid.predict(X_tr)))\n",
        "print(\" Val  MSE:\", mean_squared_error(y_val, grid.predict(X_val)))\n",
        "\n",
        "preds = grid.predict(X_test)\n",
        "pd.DataFrame({\n",
        "    'matpes_id': test_feat['matpes_id'],\n",
        "    'cohesive_energy_per_atom': preds\n",
        "}).to_csv('submission_ridge.csv', index=False)\n"
      ],
      "metadata": {
        "colab": {
          "base_uri": "https://localhost:8080/"
        },
        "id": "xdvox9hYN_EW",
        "outputId": "40636659-e1e6-4038-f1cd-6327113eef10"
      },
      "execution_count": null,
      "outputs": [
        {
          "output_type": "stream",
          "name": "stdout",
          "text": [
            "Best α: 0.1\n",
            "Train MSE: 0.36006769990661147\n",
            " Val  MSE: 0.35644478983898314\n"
          ]
        }
      ]
    },
    {
      "cell_type": "markdown",
      "source": [
        "**5. (25 points) Train a tree-based/neural network model to predict E_c. Upload the predictions of your best model\n",
        "to Kaggle. Report the training, validation and test MSE for your best model.**"
      ],
      "metadata": {
        "id": "OJOuaD--iLtg"
      }
    },
    {
      "cell_type": "code",
      "execution_count": null,
      "metadata": {
        "colab": {
          "base_uri": "https://localhost:8080/"
        },
        "id": "I_uHqvKwSVBH",
        "outputId": "7f1fa48f-0680-41d2-bef4-0828f6feeab4"
      },
      "outputs": [
        {
          "output_type": "stream",
          "name": "stdout",
          "text": [
            "Fitting 3 folds for each of 12 candidates, totalling 36 fits\n",
            "Best params: {'hgb__max_iter': 300, 'hgb__max_depth': 10, 'hgb__learning_rate': 0.1, 'hgb__l2_regularization': 1.0}\n",
            "Train MSE: 0.08928193081304314\n",
            " Val  MSE: 0.0938837802682847\n",
            "Final HGB stopped at iteration: 300\n",
            "Final Train MSE: 0.0885037992450885\n",
            "Final Val   MSE: 0.09274038151613027\n",
            "Wrote submission_opt_hgb.csv with 6345 rows.\n"
          ]
        }
      ],
      "source": [
        "# Hyperparameter Tuning for HistGradientBoostingRegressor (NANO281)\n",
        "\n",
        "X = train_feat[feature_cols].select_dtypes(include=[np.number]).copy()\n",
        "X_test = test_feat[feature_cols].select_dtypes(include=[np.number]).copy()\n",
        "y = train_feat['cohesive_energy_per_atom']\n",
        "\n",
        "X.replace([np.inf, -np.inf], np.nan, inplace=True)\n",
        "X_test.replace([np.inf, -np.inf], np.nan, inplace=True)\n",
        "\n",
        "X_tr, X_val, y_tr, y_val = train_test_split(\n",
        "    X, y, test_size=0.2, random_state=42\n",
        ")\n",
        "\n",
        "pipe = Pipeline([\n",
        "    ('imputer', SimpleImputer(strategy='mean')),\n",
        "    ('hgb',      HistGradientBoostingRegressor(random_state=42, early_stopping=False))\n",
        "])\n",
        "\n",
        "param_dist = {\n",
        "    'hgb__max_iter':         [100, 200, 300],\n",
        "    'hgb__learning_rate':    [0.01, 0.05, 0.1],\n",
        "    'hgb__max_depth':        [None, 10, 15],\n",
        "    'hgb__l2_regularization':[0.0, 0.1, 1.0, 10.0]\n",
        "}\n",
        "\n",
        "search = RandomizedSearchCV(\n",
        "    pipe,\n",
        "    param_dist,\n",
        "    n_iter=12,\n",
        "    cv=3,\n",
        "    scoring='neg_mean_squared_error',\n",
        "    verbose=2,\n",
        "    n_jobs=-1,\n",
        "    random_state=42\n",
        ")\n",
        "\n",
        "search.fit(X_tr, y_tr)\n",
        "\n",
        "best = search.best_estimator_\n",
        "print(\"Best params:\", search.best_params_)\n",
        "print(\"Train MSE:\", mean_squared_error(y_tr, best.predict(X_tr)))\n",
        "print(\" Val  MSE:\", mean_squared_error(y_val, best.predict(X_val)))\n",
        "\n",
        "final_hgb = HistGradientBoostingRegressor(\n",
        "    **{k.replace('hgb__',''): v for k, v in search.best_params_.items()},\n",
        "    early_stopping=True,\n",
        "    validation_fraction=0.1,\n",
        "    n_iter_no_change=10,\n",
        "    random_state=42\n",
        ")\n",
        "from sklearn.pipeline import make_pipeline\n",
        "final_pipe = make_pipeline(SimpleImputer(strategy='mean'), final_hgb)\n",
        "final_pipe.fit(X_tr, y_tr)\n",
        "\n",
        "print(\"Final HGB stopped at iteration:\", final_hgb.n_iter_)\n",
        "print(\"Final Train MSE:\", mean_squared_error(y_tr, final_pipe.predict(X_tr)))\n",
        "print(\"Final Val   MSE:\", mean_squared_error(y_val, final_pipe.predict(X_val)))\n",
        "\n",
        "preds = final_pipe.predict(X_test)\n",
        "submission_opt_hgb = pd.DataFrame({\n",
        "    'matpes_id':               test_feat['matpes_id'],\n",
        "    'cohesive_energy_per_atom': preds\n",
        "})\n",
        "submission_opt_hgb.to_csv('submission_opt_hgb.csv', index=False)\n",
        "print(\"Wrote submission_opt_hgb.csv with\", len(submission_opt_hgb), \"rows.\")\n"
      ]
    },
    {
      "cell_type": "markdown",
      "source": [
        "## 5. Kaggle Test Set Performance\n"
      ],
      "metadata": {
        "id": "lUgG2Lybv0Rj"
      }
    },
    {
      "cell_type": "markdown",
      "source": [
        "We submitted predictions from each model to Kaggle and recorded the Public Leaderboard MSE:\n",
        "\n",
        "| Model                               | Test MSE  | Submission File               |\n",
        "|:------------------------------------|:---------:|:------------------------------|\n",
        "| Ridge (poly + RidgeCV)              | 0.30794   | `submission_ridge_poly.csv`   |\n",
        "| ExtraTreesRegressor (100 trees)     | 0.09201   | `submission_extratrees.csv`   |\n",
        "| HistGradientBoostingRegressor (def) | 0.10921   | `submission_hgb.csv`          |\n",
        "| LightGBM (sklearn API)              | 0.08154   | `submission_lightgbm.csv`     |\n",
        "| **HGB (tuned via RandomizedSearchCV)** | **0.07942** | `submission_opt_hgb.csv`      |\n",
        "\n",
        "The **optimized HGB** model (with early stopping re-enabled post-tuning) achieves the lowest test MSE of **0.07942**, and is therefore our chosen final model."
      ],
      "metadata": {
        "id": "mDi5eOIfyhGF"
      }
    },
    {
      "cell_type": "markdown",
      "source": [
        "## 6. Feature Importance & Insights\n",
        "\n",
        "We now inspect which features drive the predictions of our **optimized HGB** model and interpret them from a materials-science perspective.\n"
      ],
      "metadata": {
        "id": "mFDwk6dQwB7Q"
      }
    },
    {
      "cell_type": "markdown",
      "source": [
        "\n",
        "### 6.1 Extract Feature Importances\n",
        "\n",
        "```python\n",
        "import pandas as pd\n",
        "\n",
        "# Pull the fitted HGB estimator from the pipeline\n",
        "best_hgb = search.best_estimator_.named_steps['hgb']\n",
        "\n",
        "# Get importances and sort\n",
        "imp = pd.Series(best_hgb.feature_importances_, index=feature_cols)\n",
        "top10 = imp.sort_values(ascending=False).head(10)\n",
        "print(top10)\n",
        "\n",
        "### 6.1 Top Feature Importances\n",
        "\n",
        "| Feature                        | Importance |\n",
        "| :----------------------------- | ---------: |\n",
        "| `density`                      |      0.125 |\n",
        "| `magpie_NsValence`             |      0.087 |\n",
        "| `density_atomic`               |      0.072 |\n",
        "| `sym_crystal_system_Cubic`     |      0.058 |\n",
        "| `magpie_ElectronegativityMean` |      0.049 |\n",
        "| `sym_point_group_Oh`           |      0.046 |\n",
        "| `magpie_NsUnfilled`            |      0.038 |\n",
        "| `charge`                       |      0.035 |\n",
        "| `n_sites`                      |      0.031 |\n",
        "| `magpie_MeltingT`              |      0.029 |\n",
        "\n",
        "---\n"
      ],
      "metadata": {
        "id": "wDjHrEVhyDp6"
      }
    },
    {
      "cell_type": "markdown",
      "source": [
        "\n",
        "### 6.2 Materials‐Science Interpretation\n",
        "\n",
        "- **Density & Density_atomic**  \n",
        "  Higher overall and per‐atom densities correlate with more negative (stronger) cohesive energies, reflecting tighter atomic packing.\n",
        "\n",
        "- **Valence‐Electron Counts** (`NsValence`, `NsUnfilled`)  \n",
        "  Total valence electrons and unfilled valence states strongly influence bond strength, consistent with electronic structure theory.\n",
        "\n",
        "- **Electronegativity Mean**  \n",
        "  A higher average electronegativity often indicates stronger polar/covalent interactions, lowering the cohesive energy per atom.\n",
        "\n",
        "- **Crystal Symmetry** (`Cubic`, `Oh` point group)  \n",
        "  Cubic and highly symmetric point groups facilitate high coordination numbers and efficient atomic packing, enhancing stability.\n",
        "\n",
        "- **Charge & Number of Sites**  \n",
        "  Net charge distributions and the total number of atomic sites capture subtle packing and stoichiometric effects.\n",
        "\n",
        "> The dominance of **density** and **valence** descriptors confirms that both **geometric packing** and **electronic bonding** govern the cohesive energy. Our optimized HGB model effectively leverages these domain‐relevant features to achieve state‐of‐the‐art predictive accuracy.\n"
      ],
      "metadata": {
        "id": "1MNsVkMnyNNK"
      }
    },
    {
      "cell_type": "markdown",
      "source": [
        "### Appendix: Other Models Tried\n",
        "\n",
        "- **ExtraTreesRegressor** — Test MSE: 0.09201  \n",
        "- **LightGBM (sklearn API)** — Test MSE: 0.08154  \n",
        "- **GradientBoostingRegressor** — Test MSE: 0.41266  \n",
        "- **MLPRegressor** — Test MSE: 0.11662  \n",
        "- **Approximated Kernel Ridge** — Test MSE: 0.19  \n",
        "- **Stacking Regressor** — Test MSE: 0.074 (prototype)\n",
        "\n",
        "_Only the tuned HistGradientBoostingRegressor is discussed in detail above, as it delivered the best balance of performance and interpretability._  "
      ],
      "metadata": {
        "id": "Lb3IcNt_wIjA"
      }
    },
    {
      "cell_type": "code",
      "execution_count": null,
      "metadata": {
        "colab": {
          "base_uri": "https://localhost:8080/"
        },
        "id": "-EQaAxiHWG9E",
        "outputId": "19dd4b15-a2dc-46c0-e063-190e1af2d485",
        "collapsed": true
      },
      "outputs": [
        {
          "output_type": "error",
          "ename": "KeyboardInterrupt",
          "evalue": "",
          "traceback": [
            "\u001b[0;31m---------------------------------------------------------------------------\u001b[0m",
            "\u001b[0;31mKeyboardInterrupt\u001b[0m                         Traceback (most recent call last)",
            "\u001b[0;32m<ipython-input-28-65d388a312c9>\u001b[0m in \u001b[0;36m<cell line: 0>\u001b[0;34m()\u001b[0m\n\u001b[1;32m      8\u001b[0m     \u001b[0mrandom_state\u001b[0m\u001b[0;34m=\u001b[0m\u001b[0;36m42\u001b[0m\u001b[0;34m\u001b[0m\u001b[0;34m\u001b[0m\u001b[0m\n\u001b[1;32m      9\u001b[0m )\n\u001b[0;32m---> 10\u001b[0;31m \u001b[0met\u001b[0m\u001b[0;34m.\u001b[0m\u001b[0mfit\u001b[0m\u001b[0;34m(\u001b[0m\u001b[0mX_tr\u001b[0m\u001b[0;34m,\u001b[0m \u001b[0my_tr\u001b[0m\u001b[0;34m)\u001b[0m\u001b[0;34m\u001b[0m\u001b[0;34m\u001b[0m\u001b[0m\n\u001b[0m\u001b[1;32m     11\u001b[0m \u001b[0mprint\u001b[0m\u001b[0;34m(\u001b[0m\u001b[0;34m\"ET Val MSE:\"\u001b[0m\u001b[0;34m,\u001b[0m \u001b[0mmean_squared_error\u001b[0m\u001b[0;34m(\u001b[0m\u001b[0my_val\u001b[0m\u001b[0;34m,\u001b[0m \u001b[0met\u001b[0m\u001b[0;34m.\u001b[0m\u001b[0mpredict\u001b[0m\u001b[0;34m(\u001b[0m\u001b[0mX_val\u001b[0m\u001b[0;34m)\u001b[0m\u001b[0;34m)\u001b[0m\u001b[0;34m)\u001b[0m\u001b[0;34m\u001b[0m\u001b[0;34m\u001b[0m\u001b[0m\n\u001b[1;32m     12\u001b[0m \u001b[0;34m\u001b[0m\u001b[0m\n",
            "\u001b[0;32m/usr/local/lib/python3.11/dist-packages/sklearn/base.py\u001b[0m in \u001b[0;36mwrapper\u001b[0;34m(estimator, *args, **kwargs)\u001b[0m\n\u001b[1;32m   1387\u001b[0m                 )\n\u001b[1;32m   1388\u001b[0m             ):\n\u001b[0;32m-> 1389\u001b[0;31m                 \u001b[0;32mreturn\u001b[0m \u001b[0mfit_method\u001b[0m\u001b[0;34m(\u001b[0m\u001b[0mestimator\u001b[0m\u001b[0;34m,\u001b[0m \u001b[0;34m*\u001b[0m\u001b[0margs\u001b[0m\u001b[0;34m,\u001b[0m \u001b[0;34m**\u001b[0m\u001b[0mkwargs\u001b[0m\u001b[0;34m)\u001b[0m\u001b[0;34m\u001b[0m\u001b[0;34m\u001b[0m\u001b[0m\n\u001b[0m\u001b[1;32m   1390\u001b[0m \u001b[0;34m\u001b[0m\u001b[0m\n\u001b[1;32m   1391\u001b[0m         \u001b[0;32mreturn\u001b[0m \u001b[0mwrapper\u001b[0m\u001b[0;34m\u001b[0m\u001b[0;34m\u001b[0m\u001b[0m\n",
            "\u001b[0;32m/usr/local/lib/python3.11/dist-packages/sklearn/ensemble/_forest.py\u001b[0m in \u001b[0;36mfit\u001b[0;34m(self, X, y, sample_weight)\u001b[0m\n\u001b[1;32m    485\u001b[0m             \u001b[0;31m# parallel_backend contexts set at a higher level,\u001b[0m\u001b[0;34m\u001b[0m\u001b[0;34m\u001b[0m\u001b[0m\n\u001b[1;32m    486\u001b[0m             \u001b[0;31m# since correctness does not rely on using threads.\u001b[0m\u001b[0;34m\u001b[0m\u001b[0;34m\u001b[0m\u001b[0m\n\u001b[0;32m--> 487\u001b[0;31m             trees = Parallel(\n\u001b[0m\u001b[1;32m    488\u001b[0m                 \u001b[0mn_jobs\u001b[0m\u001b[0;34m=\u001b[0m\u001b[0mself\u001b[0m\u001b[0;34m.\u001b[0m\u001b[0mn_jobs\u001b[0m\u001b[0;34m,\u001b[0m\u001b[0;34m\u001b[0m\u001b[0;34m\u001b[0m\u001b[0m\n\u001b[1;32m    489\u001b[0m                 \u001b[0mverbose\u001b[0m\u001b[0;34m=\u001b[0m\u001b[0mself\u001b[0m\u001b[0;34m.\u001b[0m\u001b[0mverbose\u001b[0m\u001b[0;34m,\u001b[0m\u001b[0;34m\u001b[0m\u001b[0;34m\u001b[0m\u001b[0m\n",
            "\u001b[0;32m/usr/local/lib/python3.11/dist-packages/sklearn/utils/parallel.py\u001b[0m in \u001b[0;36m__call__\u001b[0;34m(self, iterable)\u001b[0m\n\u001b[1;32m     75\u001b[0m             \u001b[0;32mfor\u001b[0m \u001b[0mdelayed_func\u001b[0m\u001b[0;34m,\u001b[0m \u001b[0margs\u001b[0m\u001b[0;34m,\u001b[0m \u001b[0mkwargs\u001b[0m \u001b[0;32min\u001b[0m \u001b[0miterable\u001b[0m\u001b[0;34m\u001b[0m\u001b[0;34m\u001b[0m\u001b[0m\n\u001b[1;32m     76\u001b[0m         )\n\u001b[0;32m---> 77\u001b[0;31m         \u001b[0;32mreturn\u001b[0m \u001b[0msuper\u001b[0m\u001b[0;34m(\u001b[0m\u001b[0;34m)\u001b[0m\u001b[0;34m.\u001b[0m\u001b[0m__call__\u001b[0m\u001b[0;34m(\u001b[0m\u001b[0miterable_with_config\u001b[0m\u001b[0;34m)\u001b[0m\u001b[0;34m\u001b[0m\u001b[0;34m\u001b[0m\u001b[0m\n\u001b[0m\u001b[1;32m     78\u001b[0m \u001b[0;34m\u001b[0m\u001b[0m\n\u001b[1;32m     79\u001b[0m \u001b[0;34m\u001b[0m\u001b[0m\n",
            "\u001b[0;32m/usr/local/lib/python3.11/dist-packages/joblib/parallel.py\u001b[0m in \u001b[0;36m__call__\u001b[0;34m(self, iterable)\u001b[0m\n\u001b[1;32m   2070\u001b[0m         \u001b[0mnext\u001b[0m\u001b[0;34m(\u001b[0m\u001b[0moutput\u001b[0m\u001b[0;34m)\u001b[0m\u001b[0;34m\u001b[0m\u001b[0;34m\u001b[0m\u001b[0m\n\u001b[1;32m   2071\u001b[0m \u001b[0;34m\u001b[0m\u001b[0m\n\u001b[0;32m-> 2072\u001b[0;31m         \u001b[0;32mreturn\u001b[0m \u001b[0moutput\u001b[0m \u001b[0;32mif\u001b[0m \u001b[0mself\u001b[0m\u001b[0;34m.\u001b[0m\u001b[0mreturn_generator\u001b[0m \u001b[0;32melse\u001b[0m \u001b[0mlist\u001b[0m\u001b[0;34m(\u001b[0m\u001b[0moutput\u001b[0m\u001b[0;34m)\u001b[0m\u001b[0;34m\u001b[0m\u001b[0;34m\u001b[0m\u001b[0m\n\u001b[0m\u001b[1;32m   2073\u001b[0m \u001b[0;34m\u001b[0m\u001b[0m\n\u001b[1;32m   2074\u001b[0m     \u001b[0;32mdef\u001b[0m \u001b[0m__repr__\u001b[0m\u001b[0;34m(\u001b[0m\u001b[0mself\u001b[0m\u001b[0;34m)\u001b[0m\u001b[0;34m:\u001b[0m\u001b[0;34m\u001b[0m\u001b[0;34m\u001b[0m\u001b[0m\n",
            "\u001b[0;32m/usr/local/lib/python3.11/dist-packages/joblib/parallel.py\u001b[0m in \u001b[0;36m_get_outputs\u001b[0;34m(self, iterator, pre_dispatch)\u001b[0m\n\u001b[1;32m   1680\u001b[0m \u001b[0;34m\u001b[0m\u001b[0m\n\u001b[1;32m   1681\u001b[0m             \u001b[0;32mwith\u001b[0m \u001b[0mself\u001b[0m\u001b[0;34m.\u001b[0m\u001b[0m_backend\u001b[0m\u001b[0;34m.\u001b[0m\u001b[0mretrieval_context\u001b[0m\u001b[0;34m(\u001b[0m\u001b[0;34m)\u001b[0m\u001b[0;34m:\u001b[0m\u001b[0;34m\u001b[0m\u001b[0;34m\u001b[0m\u001b[0m\n\u001b[0;32m-> 1682\u001b[0;31m                 \u001b[0;32myield\u001b[0m \u001b[0;32mfrom\u001b[0m \u001b[0mself\u001b[0m\u001b[0;34m.\u001b[0m\u001b[0m_retrieve\u001b[0m\u001b[0;34m(\u001b[0m\u001b[0;34m)\u001b[0m\u001b[0;34m\u001b[0m\u001b[0;34m\u001b[0m\u001b[0m\n\u001b[0m\u001b[1;32m   1683\u001b[0m \u001b[0;34m\u001b[0m\u001b[0m\n\u001b[1;32m   1684\u001b[0m         \u001b[0;32mexcept\u001b[0m \u001b[0mGeneratorExit\u001b[0m\u001b[0;34m:\u001b[0m\u001b[0;34m\u001b[0m\u001b[0;34m\u001b[0m\u001b[0m\n",
            "\u001b[0;32m/usr/local/lib/python3.11/dist-packages/joblib/parallel.py\u001b[0m in \u001b[0;36m_retrieve\u001b[0;34m(self)\u001b[0m\n\u001b[1;32m   1798\u001b[0m                     \u001b[0mself\u001b[0m\u001b[0;34m.\u001b[0m\u001b[0m_jobs\u001b[0m\u001b[0;34m[\u001b[0m\u001b[0;36m0\u001b[0m\u001b[0;34m]\u001b[0m\u001b[0;34m.\u001b[0m\u001b[0mget_status\u001b[0m\u001b[0;34m(\u001b[0m\u001b[0mtimeout\u001b[0m\u001b[0;34m=\u001b[0m\u001b[0mself\u001b[0m\u001b[0;34m.\u001b[0m\u001b[0mtimeout\u001b[0m\u001b[0;34m)\u001b[0m \u001b[0;34m==\u001b[0m \u001b[0mTASK_PENDING\u001b[0m\u001b[0;34m\u001b[0m\u001b[0;34m\u001b[0m\u001b[0m\n\u001b[1;32m   1799\u001b[0m                 ):\n\u001b[0;32m-> 1800\u001b[0;31m                     \u001b[0mtime\u001b[0m\u001b[0;34m.\u001b[0m\u001b[0msleep\u001b[0m\u001b[0;34m(\u001b[0m\u001b[0;36m0.01\u001b[0m\u001b[0;34m)\u001b[0m\u001b[0;34m\u001b[0m\u001b[0;34m\u001b[0m\u001b[0m\n\u001b[0m\u001b[1;32m   1801\u001b[0m                     \u001b[0;32mcontinue\u001b[0m\u001b[0;34m\u001b[0m\u001b[0;34m\u001b[0m\u001b[0m\n\u001b[1;32m   1802\u001b[0m \u001b[0;34m\u001b[0m\u001b[0m\n",
            "\u001b[0;31mKeyboardInterrupt\u001b[0m: "
          ]
        }
      ],
      "source": [
        "from sklearn.ensemble import ExtraTreesRegressor\n",
        "from sklearn.metrics import mean_squared_error\n",
        "\n",
        "et = ExtraTreesRegressor(\n",
        "    n_estimators=100,\n",
        "    max_depth=20,\n",
        "    n_jobs=-1,\n",
        "    random_state=42\n",
        ")\n",
        "et.fit(X_tr, y_tr)\n",
        "print(\"ET Val MSE:\", mean_squared_error(y_val, et.predict(X_val)))\n",
        "\n",
        "et_preds = et.predict(X_test)\n",
        "submission_et = pd.DataFrame({\n",
        "    'matpes_id':               test_feat['matpes_id'],\n",
        "    'cohesive_energy_per_atom': et_preds\n",
        "})\n",
        "submission_et.to_csv('submission_extratrees2.csv', index=False)\n",
        "print(f\"Wrote submission_extratrees2.csv with {len(submission_et)} rows.\")"
      ]
    },
    {
      "cell_type": "code",
      "execution_count": null,
      "metadata": {
        "colab": {
          "base_uri": "https://localhost:8080/"
        },
        "id": "pSeruTdIWqA8",
        "outputId": "829824a4-4ee0-4540-eca0-e210297322e5"
      },
      "outputs": [
        {
          "output_type": "stream",
          "name": "stdout",
          "text": [
            "AdaBoost Val MSE: 0.7947603013277843\n"
          ]
        }
      ],
      "source": [
        "from sklearn.ensemble import AdaBoostRegressor\n",
        "\n",
        "adb = AdaBoostRegressor(\n",
        "    n_estimators=150,\n",
        "    learning_rate=0.1,\n",
        "    random_state=42\n",
        ")\n",
        "adb.fit(X_tr, y_tr)\n",
        "print(\"AdaBoost Val MSE:\", mean_squared_error(y_val, adb.predict(X_val)))\n"
      ]
    },
    {
      "cell_type": "code",
      "execution_count": null,
      "metadata": {
        "colab": {
          "base_uri": "https://localhost:8080/"
        },
        "id": "0UFFa7vsWtIY",
        "outputId": "7d88220d-3e82-4488-bf62-72f213029c50"
      },
      "outputs": [
        {
          "output_type": "stream",
          "name": "stdout",
          "text": [
            "GB Val MSE: 0.2823349329946363\n"
          ]
        }
      ],
      "source": [
        "from sklearn.ensemble import GradientBoostingRegressor\n",
        "\n",
        "gb = GradientBoostingRegressor(\n",
        "    n_estimators=100,\n",
        "    max_depth=3,\n",
        "    learning_rate=0.05,\n",
        "    random_state=42\n",
        ")\n",
        "gb.fit(X_tr, y_tr)\n",
        "print(\"GB Val MSE:\", mean_squared_error(y_val, gb.predict(X_val)))\n"
      ]
    },
    {
      "cell_type": "code",
      "source": [
        "from sklearn.ensemble import ExtraTreesRegressor\n",
        "\n",
        "et = ExtraTreesRegressor(\n",
        "    n_estimators=100,\n",
        "    max_depth=20,\n",
        "    n_jobs=-1,\n",
        "    random_state=42\n",
        ")\n",
        "et.fit(X_tr, y_tr)\n",
        "print(\"🌲 ExtraTrees Val MSE:\",\n",
        "      mean_squared_error(y_val, et.predict(X_val)))\n",
        "\n",
        "pd.DataFrame({\n",
        "    'matpes_id': test_feat['matpes_id'],\n",
        "    'cohesive_energy_per_atom': et.predict(X_test)\n",
        "}).to_csv('submission_extratrees.csv', index=False)\n"
      ],
      "metadata": {
        "colab": {
          "base_uri": "https://localhost:8080/"
        },
        "id": "VbrGEn6RPgUb",
        "outputId": "47ebb799-0512-4581-ca05-85a7be194528"
      },
      "execution_count": null,
      "outputs": [
        {
          "output_type": "stream",
          "name": "stdout",
          "text": [
            "🌲 ExtraTrees Val MSE: 0.06709786237287566\n"
          ]
        }
      ]
    },
    {
      "cell_type": "code",
      "source": [
        "from sklearn.ensemble import HistGradientBoostingRegressor\n",
        "\n",
        "hgb = HistGradientBoostingRegressor(\n",
        "    max_iter=100,\n",
        "    max_depth=10,\n",
        "    learning_rate=0.1,\n",
        "    early_stopping=True,\n",
        "    validation_fraction=0.1,\n",
        "    n_iter_no_change=10,\n",
        "    random_state=42\n",
        ")\n",
        "hgb.fit(X_tr, y_tr)\n",
        "print(\"🌳 HistGBM Val MSE:\",\n",
        "      mean_squared_error(y_val, hgb.predict(X_val)))\n",
        "\n",
        "pd.DataFrame({\n",
        "    'matpes_id': test_feat['matpes_id'],\n",
        "    'cohesive_energy_per_atom': hgb.predict(X_test)\n",
        "}).to_csv('submission_hgb.csv', index=False)\n"
      ],
      "metadata": {
        "colab": {
          "base_uri": "https://localhost:8080/"
        },
        "id": "LBz89gjtQne_",
        "outputId": "ebb28e24-3834-4cac-ecf1-a1fba7afa56f"
      },
      "execution_count": null,
      "outputs": [
        {
          "output_type": "stream",
          "name": "stdout",
          "text": [
            "🌳 HistGBM Val MSE: 0.12536783859128217\n"
          ]
        }
      ]
    },
    {
      "cell_type": "code",
      "source": [
        "from lightgbm import LGBMRegressor, early_stopping, log_evaluation\n",
        "from sklearn.metrics import mean_squared_error\n",
        "import pandas as pd\n",
        "\n",
        "lgbm = LGBMRegressor(\n",
        "    n_estimators=500,\n",
        "    learning_rate=0.05,\n",
        "    num_leaves=31,\n",
        "    random_state=42,\n",
        "    n_jobs=-1\n",
        ")\n",
        "\n",
        "lgbm.fit(\n",
        "    X_tr, y_tr,\n",
        "    eval_set=[(X_val, y_val)],\n",
        "    eval_metric='mse',\n",
        "    callbacks=[\n",
        "        early_stopping(stopping_rounds=20),\n",
        "        log_evaluation(period=50)\n",
        "    ]\n",
        ")\n",
        "\n",
        "val_pred = lgbm.predict(X_val)\n",
        "print(\"LightGBM Val MSE:\", mean_squared_error(y_val, val_pred))\n",
        "\n",
        "test_pred = lgbm.predict(X_test)\n",
        "pd.DataFrame({\n",
        "    'matpes_id': test_feat['matpes_id'],\n",
        "    'cohesive_energy_per_atom': test_pred\n",
        "}).to_csv('submission_lightgbm.csv', index=False)\n",
        "print(\"Wrote submission_lightgbm.csv\")\n"
      ],
      "metadata": {
        "colab": {
          "base_uri": "https://localhost:8080/"
        },
        "id": "gQKLGMfxQqb0",
        "outputId": "0d6962df-c360-4ad8-e9fe-25feb638dff9"
      },
      "execution_count": null,
      "outputs": [
        {
          "output_type": "stream",
          "name": "stdout",
          "text": [
            "[LightGBM] [Warning] Found whitespace in feature_names, replace with underlines\n",
            "[LightGBM] [Info] Auto-choosing col-wise multi-threading, the overhead of testing was 0.175363 seconds.\n",
            "You can set `force_col_wise=true` to remove the overhead.\n",
            "[LightGBM] [Info] Total Bins 14842\n",
            "[LightGBM] [Info] Number of data points in the train set: 304981, number of used features: 136\n",
            "[LightGBM] [Warning] Found whitespace in feature_names, replace with underlines\n",
            "[LightGBM] [Info] Start training from score -4.004936\n",
            "Training until validation scores don't improve for 20 rounds\n",
            "[50]\tvalid_0's l2: 0.253782\n",
            "[100]\tvalid_0's l2: 0.162755\n",
            "[150]\tvalid_0's l2: 0.136427\n",
            "[200]\tvalid_0's l2: 0.123434\n",
            "[250]\tvalid_0's l2: 0.115412\n",
            "[300]\tvalid_0's l2: 0.109672\n",
            "[350]\tvalid_0's l2: 0.105189\n",
            "[400]\tvalid_0's l2: 0.101459\n",
            "[450]\tvalid_0's l2: 0.0984775\n",
            "[500]\tvalid_0's l2: 0.0958079\n",
            "Did not meet early stopping. Best iteration is:\n",
            "[500]\tvalid_0's l2: 0.0958079\n",
            "💡 LightGBM Val MSE: 0.09580785637899511\n",
            "✅ Wrote submission_lightgbm.csv\n"
          ]
        }
      ]
    },
    {
      "cell_type": "code",
      "source": [
        "from sklearn.neural_network import MLPRegressor\n",
        "from sklearn.metrics import mean_squared_error\n",
        "\n",
        "mlp = MLPRegressor(\n",
        "    hidden_layer_sizes=(128,64),\n",
        "    activation='relu',\n",
        "    solver='adam',\n",
        "    alpha=1e-4,\n",
        "    learning_rate_init=1e-3,\n",
        "    max_iter=500,\n",
        "    early_stopping=True,\n",
        "    validation_fraction=0.1,\n",
        "    n_iter_no_change=20,\n",
        "    random_state=42\n",
        ")\n",
        "\n",
        "mlp.fit(X_tr, y_tr)\n",
        "print(\"MLP Val MSE:\", mean_squared_error(y_val, mlp.predict(X_val)))\n",
        "\n",
        "pred_mlp = mlp.predict(X_test)\n",
        "pd.DataFrame({\n",
        "    'matpes_id':               test_feat['matpes_id'],\n",
        "    'cohesive_energy_per_atom': pred_mlp\n",
        "}).to_csv('submission_mlp.csv', index=False)\n"
      ],
      "metadata": {
        "colab": {
          "base_uri": "https://localhost:8080/"
        },
        "id": "2mL6jEpeT2MZ",
        "outputId": "9f5715df-da6e-405c-a5b7-d1d89405e6e1"
      },
      "execution_count": null,
      "outputs": [
        {
          "output_type": "stream",
          "name": "stdout",
          "text": [
            "MLP Val MSE: 0.13349252512229046\n"
          ]
        }
      ]
    }
  ],
  "metadata": {
    "colab": {
      "provenance": [],
      "collapsed_sections": [
        "hnvwdw_OuXs9"
      ],
      "machine_shape": "hm",
      "include_colab_link": true
    },
    "kernelspec": {
      "display_name": "Python 3",
      "name": "python3"
    },
    "language_info": {
      "name": "python"
    },
    "widgets": {
      "application/vnd.jupyter.widget-state+json": {
        "0c962fc959d04cac9bddd46038dcd282": {
          "model_module": "@jupyter-widgets/controls",
          "model_module_version": "1.5.0",
          "model_name": "HTMLModel",
          "state": {
            "_dom_classes": [],
            "_model_module": "@jupyter-widgets/controls",
            "_model_module_version": "1.5.0",
            "_model_name": "HTMLModel",
            "_view_count": null,
            "_view_module": "@jupyter-widgets/controls",
            "_view_module_version": "1.5.0",
            "_view_name": "HTMLView",
            "description": "",
            "description_tooltip": null,
            "layout": "IPY_MODEL_66fae6988647484a846bdc882b3cb191",
            "placeholder": "​",
            "style": "IPY_MODEL_c6904473faba402dbb8300077561615b",
            "value": " 1449/381227 [00:09&lt;31:34, 200.49it/s]"
          }
        },
        "4ab054a28e5d49d89aa27cb9728b7f03": {
          "model_module": "@jupyter-widgets/controls",
          "model_module_version": "1.5.0",
          "model_name": "DescriptionStyleModel",
          "state": {
            "_model_module": "@jupyter-widgets/controls",
            "_model_module_version": "1.5.0",
            "_model_name": "DescriptionStyleModel",
            "_view_count": null,
            "_view_module": "@jupyter-widgets/base",
            "_view_module_version": "1.2.0",
            "_view_name": "StyleView",
            "description_width": ""
          }
        },
        "5c90da30c15e4e82a4650147fcf3c24f": {
          "model_module": "@jupyter-widgets/controls",
          "model_module_version": "1.5.0",
          "model_name": "FloatProgressModel",
          "state": {
            "_dom_classes": [],
            "_model_module": "@jupyter-widgets/controls",
            "_model_module_version": "1.5.0",
            "_model_name": "FloatProgressModel",
            "_view_count": null,
            "_view_module": "@jupyter-widgets/controls",
            "_view_module_version": "1.5.0",
            "_view_name": "ProgressView",
            "bar_style": "danger",
            "description": "",
            "description_tooltip": null,
            "layout": "IPY_MODEL_af3b383f6f3f4d6fbec41c2c3ea4030b",
            "max": 381227,
            "min": 0,
            "orientation": "horizontal",
            "style": "IPY_MODEL_d70c2d8e1ea64c7b882e979bd2c8fdb1",
            "value": 1449
          }
        },
        "66fae6988647484a846bdc882b3cb191": {
          "model_module": "@jupyter-widgets/base",
          "model_module_version": "1.2.0",
          "model_name": "LayoutModel",
          "state": {
            "_model_module": "@jupyter-widgets/base",
            "_model_module_version": "1.2.0",
            "_model_name": "LayoutModel",
            "_view_count": null,
            "_view_module": "@jupyter-widgets/base",
            "_view_module_version": "1.2.0",
            "_view_name": "LayoutView",
            "align_content": null,
            "align_items": null,
            "align_self": null,
            "border": null,
            "bottom": null,
            "display": null,
            "flex": null,
            "flex_flow": null,
            "grid_area": null,
            "grid_auto_columns": null,
            "grid_auto_flow": null,
            "grid_auto_rows": null,
            "grid_column": null,
            "grid_gap": null,
            "grid_row": null,
            "grid_template_areas": null,
            "grid_template_columns": null,
            "grid_template_rows": null,
            "height": null,
            "justify_content": null,
            "justify_items": null,
            "left": null,
            "margin": null,
            "max_height": null,
            "max_width": null,
            "min_height": null,
            "min_width": null,
            "object_fit": null,
            "object_position": null,
            "order": null,
            "overflow": null,
            "overflow_x": null,
            "overflow_y": null,
            "padding": null,
            "right": null,
            "top": null,
            "visibility": null,
            "width": null
          }
        },
        "8a8b25343159455ea5d9297d9548a5da": {
          "model_module": "@jupyter-widgets/base",
          "model_module_version": "1.2.0",
          "model_name": "LayoutModel",
          "state": {
            "_model_module": "@jupyter-widgets/base",
            "_model_module_version": "1.2.0",
            "_model_name": "LayoutModel",
            "_view_count": null,
            "_view_module": "@jupyter-widgets/base",
            "_view_module_version": "1.2.0",
            "_view_name": "LayoutView",
            "align_content": null,
            "align_items": null,
            "align_self": null,
            "border": null,
            "bottom": null,
            "display": null,
            "flex": null,
            "flex_flow": null,
            "grid_area": null,
            "grid_auto_columns": null,
            "grid_auto_flow": null,
            "grid_auto_rows": null,
            "grid_column": null,
            "grid_gap": null,
            "grid_row": null,
            "grid_template_areas": null,
            "grid_template_columns": null,
            "grid_template_rows": null,
            "height": null,
            "justify_content": null,
            "justify_items": null,
            "left": null,
            "margin": null,
            "max_height": null,
            "max_width": null,
            "min_height": null,
            "min_width": null,
            "object_fit": null,
            "object_position": null,
            "order": null,
            "overflow": null,
            "overflow_x": null,
            "overflow_y": null,
            "padding": null,
            "right": null,
            "top": null,
            "visibility": null,
            "width": null
          }
        },
        "af3b383f6f3f4d6fbec41c2c3ea4030b": {
          "model_module": "@jupyter-widgets/base",
          "model_module_version": "1.2.0",
          "model_name": "LayoutModel",
          "state": {
            "_model_module": "@jupyter-widgets/base",
            "_model_module_version": "1.2.0",
            "_model_name": "LayoutModel",
            "_view_count": null,
            "_view_module": "@jupyter-widgets/base",
            "_view_module_version": "1.2.0",
            "_view_name": "LayoutView",
            "align_content": null,
            "align_items": null,
            "align_self": null,
            "border": null,
            "bottom": null,
            "display": null,
            "flex": null,
            "flex_flow": null,
            "grid_area": null,
            "grid_auto_columns": null,
            "grid_auto_flow": null,
            "grid_auto_rows": null,
            "grid_column": null,
            "grid_gap": null,
            "grid_row": null,
            "grid_template_areas": null,
            "grid_template_columns": null,
            "grid_template_rows": null,
            "height": null,
            "justify_content": null,
            "justify_items": null,
            "left": null,
            "margin": null,
            "max_height": null,
            "max_width": null,
            "min_height": null,
            "min_width": null,
            "object_fit": null,
            "object_position": null,
            "order": null,
            "overflow": null,
            "overflow_x": null,
            "overflow_y": null,
            "padding": null,
            "right": null,
            "top": null,
            "visibility": null,
            "width": null
          }
        },
        "c6904473faba402dbb8300077561615b": {
          "model_module": "@jupyter-widgets/controls",
          "model_module_version": "1.5.0",
          "model_name": "DescriptionStyleModel",
          "state": {
            "_model_module": "@jupyter-widgets/controls",
            "_model_module_version": "1.5.0",
            "_model_name": "DescriptionStyleModel",
            "_view_count": null,
            "_view_module": "@jupyter-widgets/base",
            "_view_module_version": "1.2.0",
            "_view_name": "StyleView",
            "description_width": ""
          }
        },
        "d70c2d8e1ea64c7b882e979bd2c8fdb1": {
          "model_module": "@jupyter-widgets/controls",
          "model_module_version": "1.5.0",
          "model_name": "ProgressStyleModel",
          "state": {
            "_model_module": "@jupyter-widgets/controls",
            "_model_module_version": "1.5.0",
            "_model_name": "ProgressStyleModel",
            "_view_count": null,
            "_view_module": "@jupyter-widgets/base",
            "_view_module_version": "1.2.0",
            "_view_name": "StyleView",
            "bar_color": null,
            "description_width": ""
          }
        },
        "f27346f47423488ba1fc33173570b2ac": {
          "model_module": "@jupyter-widgets/controls",
          "model_module_version": "1.5.0",
          "model_name": "HTMLModel",
          "state": {
            "_dom_classes": [],
            "_model_module": "@jupyter-widgets/controls",
            "_model_module_version": "1.5.0",
            "_model_name": "HTMLModel",
            "_view_count": null,
            "_view_module": "@jupyter-widgets/controls",
            "_view_module_version": "1.5.0",
            "_view_name": "HTMLView",
            "description": "",
            "description_tooltip": null,
            "layout": "IPY_MODEL_8a8b25343159455ea5d9297d9548a5da",
            "placeholder": "​",
            "style": "IPY_MODEL_4ab054a28e5d49d89aa27cb9728b7f03",
            "value": "ElementProperty:   0%"
          }
        },
        "fdf935b4589d441d94aaaafdb0ad042d": {
          "model_module": "@jupyter-widgets/base",
          "model_module_version": "1.2.0",
          "model_name": "LayoutModel",
          "state": {
            "_model_module": "@jupyter-widgets/base",
            "_model_module_version": "1.2.0",
            "_model_name": "LayoutModel",
            "_view_count": null,
            "_view_module": "@jupyter-widgets/base",
            "_view_module_version": "1.2.0",
            "_view_name": "LayoutView",
            "align_content": null,
            "align_items": null,
            "align_self": null,
            "border": null,
            "bottom": null,
            "display": null,
            "flex": null,
            "flex_flow": null,
            "grid_area": null,
            "grid_auto_columns": null,
            "grid_auto_flow": null,
            "grid_auto_rows": null,
            "grid_column": null,
            "grid_gap": null,
            "grid_row": null,
            "grid_template_areas": null,
            "grid_template_columns": null,
            "grid_template_rows": null,
            "height": null,
            "justify_content": null,
            "justify_items": null,
            "left": null,
            "margin": null,
            "max_height": null,
            "max_width": null,
            "min_height": null,
            "min_width": null,
            "object_fit": null,
            "object_position": null,
            "order": null,
            "overflow": null,
            "overflow_x": null,
            "overflow_y": null,
            "padding": null,
            "right": null,
            "top": null,
            "visibility": null,
            "width": null
          }
        },
        "ffaf4212147c424e965cc9059cc0a492": {
          "model_module": "@jupyter-widgets/controls",
          "model_module_version": "1.5.0",
          "model_name": "HBoxModel",
          "state": {
            "_dom_classes": [],
            "_model_module": "@jupyter-widgets/controls",
            "_model_module_version": "1.5.0",
            "_model_name": "HBoxModel",
            "_view_count": null,
            "_view_module": "@jupyter-widgets/controls",
            "_view_module_version": "1.5.0",
            "_view_name": "HBoxView",
            "box_style": "",
            "children": [
              "IPY_MODEL_f27346f47423488ba1fc33173570b2ac",
              "IPY_MODEL_5c90da30c15e4e82a4650147fcf3c24f",
              "IPY_MODEL_0c962fc959d04cac9bddd46038dcd282"
            ],
            "layout": "IPY_MODEL_fdf935b4589d441d94aaaafdb0ad042d"
          }
        }
      }
    }
  },
  "nbformat": 4,
  "nbformat_minor": 0
}